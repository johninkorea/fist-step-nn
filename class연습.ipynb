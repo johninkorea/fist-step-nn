{
 "cells": [
  {
   "cell_type": "code",
   "execution_count": 2,
   "metadata": {},
   "outputs": [],
   "source": [
    "import numpy as np\n",
    "import matplotlib.pyplot as plt"
   ]
  },
  {
   "cell_type": "code",
   "execution_count": 9,
   "metadata": {},
   "outputs": [
    {
     "data": {
      "text/plain": [
       "array([[0.91607202, 0.39375929],\n",
       "       [0.40147429, 0.32913675],\n",
       "       [0.30259559, 0.39730649]])"
      ]
     },
     "execution_count": 9,
     "metadata": {},
     "output_type": "execute_result"
    }
   ],
   "source": [
    "a=np.random.random([3,2])\n",
    "a"
   ]
  },
  {
   "cell_type": "code",
   "execution_count": 10,
   "metadata": {},
   "outputs": [
    {
     "data": {
      "text/plain": [
       "<matplotlib.image.AxesImage at 0x12314b070>"
      ]
     },
     "execution_count": 10,
     "metadata": {},
     "output_type": "execute_result"
    },
    {
     "data": {
      "image/png": "[encoded data removed]",
      "text/plain": [
       "<Figure size 432x288 with 1 Axes>"
      ]
     },
     "metadata": {
      "needs_background": "light"
     },
     "output_type": "display_data"
    }
   ],
   "source": [
    "plt.imshow(a,interpolation=\"nearest\")"
   ]
  },
  {
   "cell_type": "code",
   "execution_count": 11,
   "metadata": {},
   "outputs": [],
   "source": [
    "class dog:\n",
    "    def bark(self):\n",
    "        print(\"woof~!\")\n",
    "        pass\n",
    "    pass"
   ]
  },
  {
   "cell_type": "code",
   "execution_count": 15,
   "metadata": {},
   "outputs": [],
   "source": [
    "b=dog()  # 여기 괄호 써줘야 하네.....\n"
   ]
  },
  {
   "cell_type": "code",
   "execution_count": 16,
   "metadata": {},
   "outputs": [
    {
     "name": "stdout",
     "output_type": "stream",
     "text": [
      "woof~!\n"
     ]
    }
   ],
   "source": [
    "b.bark()"
   ]
  },
  {
   "cell_type": "code",
   "execution_count": 17,
   "metadata": {},
   "outputs": [],
   "source": [
    "class dog:\n",
    "    def __init__(self, pername, temp):\n",
    "        self.name=pername\n",
    "        self.temperature=temp\n",
    "\n",
    "    def status(self):\n",
    "        print(\"dog name is\", self.name)\n",
    "        print(\"dog temperature is\", self.temperature)\n",
    "        pass\n",
    "\n",
    "    def settemp(self, temp):\n",
    "        self.temperature=temp\n",
    "        pass\n",
    "\n",
    "    def bark(self):\n",
    "        print(\"woof!\")\n",
    "        pass\n",
    "    pass"
   ]
  },
  {
   "cell_type": "code",
   "execution_count": 18,
   "metadata": {},
   "outputs": [
    {
     "name": "stdout",
     "output_type": "stream",
     "text": [
      "dog name is lassy\n",
      "dog temperature is 40\n"
     ]
    }
   ],
   "source": [
    "lassy=dog(\"lassy\", 40)\n",
    "lassy.status()"
   ]
  },
  {
   "cell_type": "code",
   "execution_count": 19,
   "metadata": {},
   "outputs": [
    {
     "name": "stdout",
     "output_type": "stream",
     "text": [
      "dog name is lassy\n",
      "dog temperature is 300\n"
     ]
    }
   ],
   "source": [
    "lassy.settemp(300)\n",
    "lassy.status()"
   ]
  },
  {
   "cell_type": "code",
   "execution_count": null,
   "metadata": {},
   "outputs": [],
   "source": []
  }
 ],
 "metadata": {
  "interpreter": {
   "hash": "c744d740ca776f7babdffa687e04124c86aad33f67e851da7faee1e8b27aca0f"
  },
  "kernelspec": {
   "display_name": "Python 3.9.9 64-bit ('asd': conda)",
   "language": "python",
   "name": "python3"
  },
  "language_info": {
   "codemirror_mode": {
    "name": "ipython",
    "version": 3
   },
   "file_extension": ".py",
   "mimetype": "text/x-python",
   "name": "python",
   "nbconvert_exporter": "python",
   "pygments_lexer": "ipython3",
   "version": "3.9.9"
  },
  "orig_nbformat": 4
 },
 "nbformat": 4,
 "nbformat_minor": 2
}
