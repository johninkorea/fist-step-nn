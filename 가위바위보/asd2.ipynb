{
 "cells": [
  {
   "cell_type": "code",
   "execution_count": 3,
   "metadata": {},
   "outputs": [],
   "source": [
    "import numpy as np\n",
    "from PIL import Image\n",
    "import matplotlib.pyplot as plt\n",
    "import os \n",
    "from scipy.special import expit"
   ]
  },
  {
   "cell_type": "code",
   "execution_count": 2,
   "metadata": {},
   "outputs": [
    {
     "name": "stdout",
     "output_type": "stream",
     "text": [
      "2\n"
     ]
    },
    {
     "data": {
      "image/png": "[encoded data removed]",
      "text/plain": [
       "<Figure size 432x288 with 1 Axes>"
      ]
     },
     "metadata": {
      "needs_background": "light"
     },
     "output_type": "display_data"
    }
   ],
   "source": [
    "# test 데이터 정리\n",
    "add=\"test\"\n",
    "\n",
    "list=os.listdir(add)\n",
    "test_label=list[:]\n",
    "test_data=[]\n",
    "\n",
    "z=0\n",
    "while z<len(test_label):\n",
    "    test_label[z]=test_label[z][-6]\n",
    "\n",
    "    add1 =add+\"/\"+list[z]\n",
    "\n",
    "    image_pil = Image.open(add1)\n",
    "    image = np.array(image_pil)\n",
    "\n",
    "    a=np.arange(0,128,2)\n",
    "    image = np.delete(image,(a), axis = 0)\n",
    "    image = np.delete(image,(a), axis = 1)\n",
    "    a=np.arange(0,64,2)\n",
    "    image = np.delete(image,(a), axis = 0)\n",
    "    image = np.delete(image,(a), axis = 1)\n",
    "\n",
    "    image = (image / 255.0 * 0.99) + 0.01\n",
    "    image=image.reshape(1,-1)\n",
    "    test_data.append(image)\n",
    "    \n",
    "    z+=1\n",
    "\n",
    "##############################################################################\n",
    "# train 데이터 정리\n",
    "add=\"train\"\n",
    "\n",
    "list=os.listdir(add)\n",
    "train_label=list[:]\n",
    "train_data=[]\n",
    "\n",
    "z=0\n",
    "while z<len(train_label):\n",
    "    train_label[z]=train_label[z][-6]\n",
    "\n",
    "    add1 =add+\"/\"+list[z]\n",
    "\n",
    "    image_pil = Image.open(add1)\n",
    "    image = np.array(image_pil)\n",
    "\n",
    "    a=np.arange(0,128,2)\n",
    "    image = np.delete(image,(a), axis = 0)\n",
    "    image = np.delete(image,(a), axis = 1)\n",
    "    a=np.arange(0,64,2)\n",
    "    image = np.delete(image,(a), axis = 0)\n",
    "    image = np.delete(image,(a), axis = 1)\n",
    "\n",
    "    image=image.reshape(1,-1)\n",
    "    image = (image / 255.0 * 0.99) + 0.01\n",
    "    train_data.append(image)\n",
    "    \n",
    "    z+=1\n",
    "##############################################################################\n",
    "# 학습 카겟 만들기\n",
    "targets=[]\n",
    "z=0\n",
    "while z<len(train_label):\n",
    "    target=np.zeros(6)+.01\n",
    "    target[int(train_label[z])]=.99\n",
    "    targets.append(target)\n",
    "    z+=1\n",
    "\n",
    "\n",
    "a=int(np.random.choice(len(list),1))\n",
    "# plt.imshow(train_data[a])\n",
    "plt.imshow(train_data[a].reshape(32,32))\n",
    "# print(np.shape(train_data[a]))\n",
    "print(train_label[a])"
   ]
  },
  {
   "cell_type": "code",
   "execution_count": null,
   "metadata": {},
   "outputs": [],
   "source": []
  },
  {
   "cell_type": "code",
   "execution_count": 3,
   "metadata": {},
   "outputs": [],
   "source": [
    "# 신경망 만들기\n",
    "class neural_network:\n",
    "    def __init__(self, inputnodes, hiddennodes1, hiddennodes2, outputnodes, learninggrate):\n",
    "        self.inodes=inputnodes\n",
    "        self.hnodes1=hiddennodes1\n",
    "        self.hnodes2=hiddennodes2\n",
    "        self.onodes=outputnodes\n",
    "\n",
    "        self.wih1=np.random.normal(.0, pow(self.hnodes1, -.5), (self.hnodes1, self.inodes))\n",
    "        self.wh1h2=np.random.normal(.0, pow(self.hnodes2, -.5), (self.hnodes2, self.hnodes1))\n",
    "        self.wh2o=np.random.normal(.0, pow(self.onodes, -.5), (self.onodes, self.hnodes2))\n",
    "\n",
    "        self.lr=learninggrate\n",
    "\n",
    "        self.activation_fun=lambda x : expit(x)\n",
    "\n",
    "        pass\n",
    "\n",
    "    def query(self, input_list): #질의\n",
    "        inputs=np.array(input_list, ndmin=2).T\n",
    "\n",
    "        hidden1_inputs=np.dot(self.wih1, inputs)\n",
    "        hidden1_outputs=self.activation_fun(hidden1_inputs)\n",
    "        \n",
    "        hidden2_inputs=np.dot(self.wh1h2, hidden1_outputs)\n",
    "        hidden2_outputs=self.activation_fun(hidden2_inputs)\n",
    "\n",
    "        final_input=np.dot(self.wh2o ,hidden2_outputs)\n",
    "        final_outputs=self.activation_fun(final_input)\n",
    "\n",
    "        return final_outputs\n",
    "\n",
    "\n",
    "    def train(self, input_list, target): # 학습\n",
    "        inputs=np.array(input_list, ndmin=2).T\n",
    "        target=np.array(target, ndmin=2).T\n",
    "\n",
    "        hidden1_inputs=np.dot(self.wih1, inputs)\n",
    "        hidden1_outputs=self.activation_fun(hidden1_inputs)\n",
    "        \n",
    "        hidden2_inputs=np.dot(self.wh1h2, hidden1_outputs)\n",
    "        hidden2_outputs=self.activation_fun(hidden2_inputs)\n",
    "\n",
    "        final_input=np.dot(self.wh2o ,hidden2_outputs)\n",
    "        final_outputs=self.activation_fun(final_input)\n",
    "\n",
    "        # 오차 정의\n",
    "        output_err=target-final_outputs\n",
    "        hidden2_err=np.dot(self.wh2o.T, output_err)\n",
    "        hidden1_err=np.dot(self.wh1h2.T, hidden2_err)\n",
    "\n",
    "        # oh2 역전파\n",
    "        delta_w1=self.lr*np.dot(output_err*final_outputs*(1-final_outputs), hidden2_outputs.T)\n",
    "        self.wh2o=self.wh2o+delta_w1\n",
    "        \n",
    "        # h2h1 역전파\n",
    "        delta_w1=self.lr*np.dot(hidden2_err*hidden2_outputs*(1-hidden2_outputs), hidden1_outputs.T)\n",
    "        self.wh1h2=self.wh1h2+delta_w1\n",
    "\n",
    "        # h1i역전파\n",
    "        delta_w2=self.lr*np.dot(hidden1_err*hidden1_outputs*(1-hidden1_outputs), inputs.T)\n",
    "        self.wih1=self.wih1+delta_w2\n",
    "        pass\n"
   ]
  },
  {
   "cell_type": "code",
   "execution_count": null,
   "metadata": {},
   "outputs": [],
   "source": []
  },
  {
   "cell_type": "code",
   "execution_count": 4,
   "metadata": {},
   "outputs": [
    {
     "name": "stdout",
     "output_type": "stream",
     "text": [
      "22\n",
      "정확도: 0.9938888888888889\n"
     ]
    },
    {
     "data": {
      "text/plain": [
       "0"
      ]
     },
     "execution_count": 4,
     "metadata": {},
     "output_type": "execute_result"
    }
   ],
   "source": [
    "# 신경망 정의\n",
    "input_nodes=1024\n",
    "hiddennodes1=1500\n",
    "hiddennodes2=1500\n",
    "outputnodes=6\n",
    "\n",
    "learning_rate=0.01\n",
    "\n",
    "n=neural_network(input_nodes, hiddennodes1, hiddennodes2, outputnodes, learning_rate)\n",
    "##############################################################################\n",
    "# 학습\n",
    "z=0\n",
    "while z<len(train_data):\n",
    "    # print(z)\n",
    "    n.train(train_data[z], targets[z])\n",
    "    # print(n.wh2o)\n",
    "    z+=1\n",
    "np.save(\"W/wih1\", n.wih1)\n",
    "np.save(\"W/wh1h2\", n.wh1h2)\n",
    "np.save(\"W/wh2o\", n.wh2o)\n",
    "##############################################################################\n",
    "# 평가\n",
    "z=0\n",
    "h=0\n",
    "while z<len(test_data):\n",
    "    # a=int(np.random.choice(len(test_data),1))\n",
    "    a=z\n",
    "    b=n.query(test_data[int(a)])\n",
    "    # print(b)\n",
    "    # print(np.shape(test_data[a]))\n",
    "    if int(test_label[a]) == np.argmax(b):pass\n",
    "    else:\n",
    "        # print(np.argmax(b))\n",
    "        # print(test_label[a])\n",
    "        # plt.imshow(test_data[a].reshape(32,32))\n",
    "        # print(z)\n",
    "        h+=1\n",
    "    z+=1\n",
    "print(h)\n",
    "print(\"정확도:\", 1-h/len(test_label))\n",
    "\n",
    "\n",
    "os.system(\"say done\")"
   ]
  },
  {
   "cell_type": "code",
   "execution_count": null,
   "metadata": {},
   "outputs": [],
   "source": []
  },
  {
   "cell_type": "code",
   "execution_count": 20,
   "metadata": {},
   "outputs": [
    {
     "name": "stdout",
     "output_type": "stream",
     "text": [
      "[[0 0 0 ... 0 0 0]\n",
      " [0 0 0 ... 0 0 0]\n",
      " [0 0 0 ... 0 0 0]\n",
      " ...\n",
      " [0 0 0 ... 0 0 0]\n",
      " [0 0 0 ... 0 0 0]\n",
      " [0 0 0 ... 0 0 0]]\n"
     ]
    },
    {
     "data": {
      "image/png": "[encoded data removed]",
      "text/plain": [
       "<Figure size 432x288 with 1 Axes>"
      ]
     },
     "metadata": {
      "needs_background": "light"
     },
     "output_type": "display_data"
    }
   ],
   "source": [
    "# 사진찍기\n",
    "\n",
    "import cv2\n",
    "import time\n",
    "import os\n",
    "from PIL import Image\n",
    "# import numpy as np\n",
    "# import matplotlib.pyplot as plt\n",
    "\n",
    "cap = cv2.VideoCapture(0)                       # 0번 카메라 연결\n",
    "\n",
    "frameWidth = 32\n",
    "frameHeight = 32\n",
    "cap = cv2.VideoCapture(0)\n",
    "cap.set(3, frameWidth)\n",
    "cap.set(4, frameHeight)\n",
    "cap.set(1,128)\n",
    "\n",
    "time.sleep(3)\n",
    "\n",
    "while True:\n",
    "\n",
    "    os.system( \"say  1\" )\n",
    "    os.system( \"say  2\" )\n",
    "    os.system( \"say  3\" )\n",
    "    os.system( \"say  가위\" )\n",
    "    time.sleep(.05)\n",
    "    os.system( \"say  바위\" )\n",
    "    time.sleep(.05)\n",
    "    os.system( \"say  보\" )\n",
    "    \n",
    "    ret, frame = cap.read()                 # 카메라 프레임 읽기\n",
    "    cv2.imshow('camera',frame)          # 프레임 화면에 표시\n",
    "    # if ret:\n",
    "    if 1:            # 아무 키나 누르면\n",
    "        #####################################################\n",
    "        # frame=cv2.cvtColor(frame, cv2.COLOR_BGR2GRAY)\n",
    "        frame=cv2.cvtColor(frame, cv2.COLOR_BGR2HSV)\n",
    "        # frame = cv2.flip(frame,0)   # 상하 반전\n",
    "        cv2.imwrite('photo.jpg', frame) # 프레임을 'photo.jpg'에 저장\n",
    "        break\n",
    "    # else:\n",
    "    #     print('no frame!')\n",
    "    #     break\n",
    "cap.release()\n",
    "cv2.destroyAllWindows()\n",
    "plt.imshow(frame)\n",
    "\n",
    "\n",
    "\n",
    "\n",
    "\n",
    "import numpy as np\n",
    "\n",
    "lower = np.array([0,48,80], dtype=\"uint8\")\n",
    "\n",
    "upper = np.array([20,255,255], dtype=\"uint8\")\n",
    "\n",
    "frame = cv2.inRange(frame, lower, upper)\n",
    "plt.imshow(frame)\n",
    "\n",
    "contours, hierarchy = cv2.findContours(frame, cv2.RETR_LIST, cv2.CHAIN_APPROX_SIMPLE)\n",
    "    \n",
    "# 가장 큰 영역 찾기\n",
    "max = 0\n",
    "maxcnt = None\n",
    "for cnt in contours :\n",
    "    area = cv2.contourArea(cnt)\n",
    "    if(max < area) :\n",
    "        max = area\n",
    "        maxcnt = cnt\n",
    "\n",
    "mask = np.zeros(frame.shape).astype(frame.dtype)\n",
    "\n",
    "color = [255, 255, 255]\n",
    "\n",
    "# 경계선 내부 255로 채우기\n",
    "\n",
    "cv2.fillPoly(mask, [maxcnt], color)\n",
    "plt.imshow(frame)\n",
    "\n",
    "print(frame)\n"
   ]
  },
  {
   "cell_type": "code",
   "execution_count": 21,
   "metadata": {},
   "outputs": [
    {
     "name": "stdout",
     "output_type": "stream",
     "text": [
      "(32, 32)\n",
      "(1, 1024)\n",
      "[[1.62551754e+01]\n",
      " [7.33013262e-02]\n",
      " [5.22031009e-07]\n",
      " [1.28952177e-02]\n",
      " [9.91293864e+01]\n",
      " [9.96563303e+01]]\n",
      "5\n",
      "scissors\n"
     ]
    },
    {
     "data": {
      "image/png": "[encoded data removed]",
      "text/plain": [
       "<Figure size 432x288 with 1 Axes>"
      ]
     },
     "metadata": {
      "needs_background": "light"
     },
     "output_type": "display_data"
    }
   ],
   "source": [
    "# 사진 편집\n",
    "##############################################################################\n",
    "from PIL import Image\n",
    "import numpy as np\n",
    "import matplotlib.pyplot as plt\n",
    "\n",
    "image = np.array(frame)\n",
    "# 크기 조절\n",
    "image = np.delete(image,np.arange(263), axis = 0)\n",
    "image = np.delete(image,-np.arange(265), axis = 0)\n",
    "image = np.delete(image,np.arange(263), axis = 1)\n",
    "image = np.delete(image,-np.arange(265), axis = 1)\n",
    "\n",
    "b=int(np.shape(image)[0])\n",
    "a=np.arange(0,b,2)\n",
    "image = np.delete(image,(a), axis = 0)\n",
    "image = np.delete(image,(a), axis = 1)\n",
    "\n",
    "b=int(np.shape(image)[0])\n",
    "a=np.arange(0,b,2)\n",
    "image = np.delete(image,(a), axis = 0)\n",
    "image = np.delete(image,(a), axis = 1)\n",
    "\n",
    "b=int(np.shape(image)[0])\n",
    "a=np.arange(0,b,2)\n",
    "image = np.delete(image,(a), axis = 0)\n",
    "image = np.delete(image,(a), axis = 1)\n",
    "\n",
    "b=int(np.shape(image)[0])\n",
    "a=np.arange(0,b,2)\n",
    "image = np.delete(image,(a), axis = 0)\n",
    "image = np.delete(image,(a), axis = 1)\n",
    "\n",
    "b=int(np.shape(image)[0])\n",
    "a=np.arange(0,b,2)\n",
    "image = np.delete(image,(a), axis = 0)\n",
    "image = np.delete(image,(a), axis = 1)\n",
    "\n",
    "# 선명하게\n",
    "kernel = np.array([[0, -1, 0],\n",
    "                   [-1, 5,-1],\n",
    "                   [0, -1, 0]]) # 커널을 만듭니다.\n",
    "\n",
    "# 이미지를 선명하게 만듭니다.\n",
    "# image=np.reshape(image,(32,32))\n",
    "image = cv2.filter2D(image, -1, kernel)\n",
    "\n",
    "\n",
    "print(np.shape(image))\n",
    "plt.imshow(image)\n",
    "##############################################################################\n",
    "image = (image / np.max(image) * 0.99) + 0.01\n",
    "\n",
    "image=image.reshape(1,-1)\n",
    "print(np.shape(image))\n",
    "\n",
    "asd=n.query(image)\n",
    "re=np.argmax(asd)\n",
    "print(100*asd)\n",
    "print(re)\n",
    "\n",
    "if re==2:\n",
    "    os.system(\"say rock\")\n",
    "    print(\"rock\")\n",
    "if re==1:\n",
    "    os.system(\"say rock\")\n",
    "    print(\"rock\")\n",
    "if re==0:\n",
    "    os.system(\"say Paper\")\n",
    "    print(\"Paper\")\n",
    "if re==4 :\n",
    "    os.system(\"say scissors\")\n",
    "    print(\"scissors\")\n",
    "if re==5 :\n",
    "    os.system(\"say scissors\")\n",
    "    print(\"scissors\")\n",
    "\n",
    "# 추가 학습 시키기\n",
    "# target=np.zeros(6)+.01\n",
    "# target[0]=.99\n",
    "# n.train(image, target)\n"
   ]
  },
  {
   "cell_type": "code",
   "execution_count": null,
   "metadata": {},
   "outputs": [],
   "source": []
  },
  {
   "cell_type": "code",
   "execution_count": null,
   "metadata": {},
   "outputs": [],
   "source": []
  },
  {
   "cell_type": "code",
   "execution_count": null,
   "metadata": {},
   "outputs": [],
   "source": []
  },
  {
   "cell_type": "code",
   "execution_count": null,
   "metadata": {},
   "outputs": [],
   "source": []
  },
  {
   "cell_type": "code",
   "execution_count": null,
   "metadata": {},
   "outputs": [],
   "source": []
  },
  {
   "cell_type": "code",
   "execution_count": null,
   "metadata": {},
   "outputs": [],
   "source": []
  },
  {
   "cell_type": "code",
   "execution_count": null,
   "metadata": {},
   "outputs": [],
   "source": []
  },
  {
   "cell_type": "code",
   "execution_count": null,
   "metadata": {},
   "outputs": [],
   "source": []
  },
  {
   "cell_type": "code",
   "execution_count": null,
   "metadata": {},
   "outputs": [],
   "source": []
  },
  {
   "cell_type": "markdown",
   "metadata": {},
   "source": [
    "# 찍은 데이터 편집하는 부분\n"
   ]
  },
  {
   "cell_type": "code",
   "execution_count": 22,
   "metadata": {},
   "outputs": [
    {
     "ename": "NameError",
     "evalue": "name 'frame' is not defined",
     "output_type": "error",
     "traceback": [
      "\u001b[0;31m---------------------------------------------------------------------------\u001b[0m",
      "\u001b[0;31mNameError\u001b[0m                                 Traceback (most recent call last)",
      "\u001b[0;32m/var/folders/l0/skk3w2dd45dc5w2n97cg04n40000gn/T/ipykernel_5190/3532412618.py\u001b[0m in \u001b[0;36m<module>\u001b[0;34m\u001b[0m\n\u001b[0;32m----> 1\u001b[0;31m \u001b[0mframe\u001b[0m\u001b[0;34m=\u001b[0m\u001b[0mcv2\u001b[0m\u001b[0;34m.\u001b[0m\u001b[0mfastNlMeansDenoising\u001b[0m\u001b[0;34m(\u001b[0m\u001b[0mframe\u001b[0m\u001b[0;34m)\u001b[0m\u001b[0;34m\u001b[0m\u001b[0;34m\u001b[0m\u001b[0m\n\u001b[0m\u001b[1;32m      2\u001b[0m \u001b[0mplt\u001b[0m\u001b[0;34m.\u001b[0m\u001b[0mimshow\u001b[0m\u001b[0;34m(\u001b[0m\u001b[0mframe\u001b[0m\u001b[0;34m)\u001b[0m\u001b[0;34m\u001b[0m\u001b[0;34m\u001b[0m\u001b[0m\n\u001b[1;32m      3\u001b[0m \u001b[0;31m# 여기까지는 찍은 사진 바로\u001b[0m\u001b[0;34m\u001b[0m\u001b[0;34m\u001b[0m\u001b[0m\n",
      "\u001b[0;31mNameError\u001b[0m: name 'frame' is not defined"
     ]
    }
   ],
   "source": [
    "frame=cv2.fastNlMeansDenoising(frame) \n",
    "plt.imshow(frame)\n",
    "# 여기까지는 찍은 사진 바로"
   ]
  },
  {
   "cell_type": "code",
   "execution_count": 23,
   "metadata": {},
   "outputs": [
    {
     "ename": "NameError",
     "evalue": "name 'frame' is not defined",
     "output_type": "error",
     "traceback": [
      "\u001b[0;31m---------------------------------------------------------------------------\u001b[0m",
      "\u001b[0;31mNameError\u001b[0m                                 Traceback (most recent call last)",
      "\u001b[0;32m/var/folders/l0/skk3w2dd45dc5w2n97cg04n40000gn/T/ipykernel_5190/26354118.py\u001b[0m in \u001b[0;36m<module>\u001b[0;34m\u001b[0m\n\u001b[1;32m      5\u001b[0m \u001b[0mupper\u001b[0m \u001b[0;34m=\u001b[0m \u001b[0mnp\u001b[0m\u001b[0;34m.\u001b[0m\u001b[0marray\u001b[0m\u001b[0;34m(\u001b[0m\u001b[0;34m[\u001b[0m\u001b[0;36m20\u001b[0m\u001b[0;34m,\u001b[0m\u001b[0;36m255\u001b[0m\u001b[0;34m,\u001b[0m\u001b[0;36m255\u001b[0m\u001b[0;34m]\u001b[0m\u001b[0;34m,\u001b[0m \u001b[0mdtype\u001b[0m\u001b[0;34m=\u001b[0m\u001b[0;34m\"uint8\"\u001b[0m\u001b[0;34m)\u001b[0m\u001b[0;34m\u001b[0m\u001b[0;34m\u001b[0m\u001b[0m\n\u001b[1;32m      6\u001b[0m \u001b[0;34m\u001b[0m\u001b[0m\n\u001b[0;32m----> 7\u001b[0;31m \u001b[0mframe\u001b[0m \u001b[0;34m=\u001b[0m \u001b[0mcv2\u001b[0m\u001b[0;34m.\u001b[0m\u001b[0minRange\u001b[0m\u001b[0;34m(\u001b[0m\u001b[0mframe\u001b[0m\u001b[0;34m,\u001b[0m \u001b[0mlower\u001b[0m\u001b[0;34m,\u001b[0m \u001b[0mupper\u001b[0m\u001b[0;34m)\u001b[0m\u001b[0;34m\u001b[0m\u001b[0;34m\u001b[0m\u001b[0m\n\u001b[0m\u001b[1;32m      8\u001b[0m \u001b[0mplt\u001b[0m\u001b[0;34m.\u001b[0m\u001b[0mimshow\u001b[0m\u001b[0;34m(\u001b[0m\u001b[0mframe\u001b[0m\u001b[0;34m)\u001b[0m\u001b[0;34m\u001b[0m\u001b[0;34m\u001b[0m\u001b[0m\n\u001b[1;32m      9\u001b[0m \u001b[0;34m\u001b[0m\u001b[0m\n",
      "\u001b[0;31mNameError\u001b[0m: name 'frame' is not defined"
     ]
    }
   ],
   "source": [
    "import numpy as np\n",
    "\n",
    "lower = np.array([0,48,80], dtype=\"uint8\")\n",
    "\n",
    "upper = np.array([20,255,255], dtype=\"uint8\")\n",
    "\n",
    "frame = cv2.inRange(frame, lower, upper)\n",
    "plt.imshow(frame)\n",
    "\n",
    "contours, hierarchy = cv2.findContours(frame, cv2.RETR_LIST, cv2.CHAIN_APPROX_SIMPLE)\n",
    "    \n",
    "# 가장 큰 영역 찾기\n",
    "max = 0\n",
    "maxcnt = None\n",
    "for cnt in contours :\n",
    "    area = cv2.contourArea(cnt)\n",
    "    if(max < area) :\n",
    "        max = area\n",
    "        maxcnt = cnt\n",
    "\n",
    "mask = np.zeros(frame.shape).astype(frame.dtype)\n",
    "\n",
    "color = [255, 255, 255]\n",
    "\n",
    "# 경계선 내부 255로 채우기\n",
    "\n",
    "cv2.fillPoly(mask, [maxcnt], color)\n",
    "plt.imshow(frame)\n",
    "# 찍은 사진 편집 결과\n",
    "# 이거를 줄여서 모델에 ㅓㄴㅎ을 거임\n"
   ]
  },
  {
   "cell_type": "code",
   "execution_count": null,
   "metadata": {},
   "outputs": [],
   "source": []
  },
  {
   "cell_type": "code",
   "execution_count": null,
   "metadata": {},
   "outputs": [],
   "source": []
  },
  {
   "cell_type": "code",
   "execution_count": null,
   "metadata": {},
   "outputs": [],
   "source": []
  },
  {
   "cell_type": "code",
   "execution_count": null,
   "metadata": {},
   "outputs": [],
   "source": []
  },
  {
   "cell_type": "code",
   "execution_count": null,
   "metadata": {},
   "outputs": [],
   "source": []
  },
  {
   "cell_type": "code",
   "execution_count": null,
   "metadata": {},
   "outputs": [],
   "source": []
  },
  {
   "cell_type": "markdown",
   "metadata": {},
   "source": [
    "# 훈연 데이터 편집하는 부분\n"
   ]
  },
  {
   "cell_type": "code",
   "execution_count": 24,
   "metadata": {},
   "outputs": [
    {
     "name": "stdout",
     "output_type": "stream",
     "text": [
      "(128, 128)\n"
     ]
    }
   ],
   "source": [
    "path=\"/Users/yararal/python/신경망첫걸음/가위바위보/test/0a4d7cbc-2522-4e51-968a-1a86d3b7ee19_5L.png\"\n",
    "\n",
    "image_pil = Image.open(path)\n",
    "image = np.array(image_pil)\n",
    "print(np.shape(image))"
   ]
  },
  {
   "cell_type": "code",
   "execution_count": 25,
   "metadata": {},
   "outputs": [
    {
     "data": {
      "text/plain": [
       "<matplotlib.image.AxesImage at 0x12f3506a0>"
      ]
     },
     "execution_count": 25,
     "metadata": {},
     "output_type": "execute_result"
    },
    {
     "data": {
      "image/png": "[encoded data removed]",
      "text/plain": [
       "<Figure size 432x288 with 1 Axes>"
      ]
     },
     "metadata": {
      "needs_background": "light"
     },
     "output_type": "display_data"
    }
   ],
   "source": [
    "\n",
    "# frame=cv2.cvtColor(frame, cv2.COLOR_BGR2HSV)\n",
    "# frame=cv2.cvtColor(frame, cv2.COLOR_GRAY2BGR)\n",
    "# image = cv2.imread(path,cv2.IMREAD_COLOR)\n",
    "\n",
    "# b,g,r = cv2.split(image) # channel split\n",
    "# bbg_img = cv2.merge((b,b,g))\n",
    "# rbr_img = cv2.merge((r,b,r))\n",
    "\n",
    "\n",
    "plt.imshow(image)\n",
    "\n"
   ]
  },
  {
   "cell_type": "code",
   "execution_count": 26,
   "metadata": {},
   "outputs": [
    {
     "data": {
      "image/png": "[encoded data removed]",
      "text/plain": [
       "<Figure size 432x288 with 1 Axes>"
      ]
     },
     "metadata": {
      "needs_background": "light"
     },
     "output_type": "display_data"
    }
   ],
   "source": [
    "import cv2\n",
    "import time\n",
    "import os\n",
    "from PIL import Image\n",
    "\n",
    "image=cv2.fastNlMeansDenoising(image) # 노이지 없애기 라는데 효과있나?\n",
    "plt.imshow(image)\n",
    "\n",
    "##########################################################################################\n",
    "\n",
    "# 흑백 사진은 2차원이라 HVS형태로 ㅏㅁㄴ들수 없고 그래서 이거를 하기 어려운거같음\n",
    "# 이거는 저걸로 만들고 거기서 경계를 따는 거 같음\n",
    "\n",
    "# import numpy as np\n",
    "# lower = np.array([0,48,80])#, dtype=\"uint8\")\n",
    "# upper = np.array([20,255,255])#, dtype=\"uint8\")\n",
    "# image = cv2.inRange(image, lower, upper)\n",
    "# plt.imshow(image)\n",
    "\n",
    "\n",
    "##########################################################################################\n",
    "\n",
    "\n",
    "\n",
    "# image = cv2.imread('파일경로', cv2.IMREAD_GRAYSCALE)\n",
    "\n",
    "# CLAHE 객체 생성\n",
    "clahe = cv2.createCLAHE(clipLimit=2.0, tileGridSize=(8, 8))\n",
    "# CLAHE 객체에 원본 이미지 입력하여 CLAHE가 적용된 이미지 생성 \n",
    "gray_cont_dst = clahe.apply(  image)\n",
    "\n",
    "# 원본, 대비 증가 이미지 화면 출력\n",
    "plt.imshow(image)\n",
    "\n",
    "##########################################################################################\n",
    "contours, hierarchy = cv2.findContours(image, cv2.RETR_LIST, cv2.CHAIN_APPROX_SIMPLE)\n",
    "    \n",
    "# 가장 큰 영역 찾기\n",
    "max = 0\n",
    "maxcnt = None\n",
    "for cnt in contours :\n",
    "    area = cv2.contourArea(cnt)\n",
    "    if(max < area) :\n",
    "        max = area\n",
    "        maxcnt = cnt\n",
    "\n",
    "mask = np.zeros(image.shape).astype(image.dtype)\n",
    "\n",
    "color = [255, 255, 255]\n",
    "\n",
    "# 경계선 내부 255로 채우기\n",
    "\n",
    "cv2.fillPoly(mask, [maxcnt], color)\n",
    "plt.imshow(image)\n",
    "\n",
    "##########################################################################################\n",
    "\n",
    "\n",
    "a=np.arange(0,128,2)\n",
    "image = np.delete(image,(a), axis = 0)\n",
    "image = np.delete(image,(a), axis = 1)\n",
    "a=np.arange(0,64,2)\n",
    "image = np.delete(image,(a), axis = 0)\n",
    "image = np.delete(image,(a), axis = 1)\n",
    "\n",
    "image = (image / 255.0 * 0.99) + 0.01\n"
   ]
  },
  {
   "cell_type": "code",
   "execution_count": 27,
   "metadata": {},
   "outputs": [
    {
     "name": "stdout",
     "output_type": "stream",
     "text": [
      "0.8757647058823529\n",
      "0.1264705882352941\n"
     ]
    }
   ],
   "source": [
    "print(np.max(image))\n",
    "print(np.min(image))"
   ]
  },
  {
   "cell_type": "code",
   "execution_count": 28,
   "metadata": {},
   "outputs": [],
   "source": [
    "def sig(x):\n",
    "    y=np.exp(-2000*x)\n",
    "    return 255/(1+y)\n",
    "\n",
    "def softmax(a):\n",
    "    c=np.max(a)\n",
    "    y=np.exp(a-c)/np.sum(np.exp(a-c))\n",
    "    return y\n"
   ]
  },
  {
   "cell_type": "code",
   "execution_count": 30,
   "metadata": {},
   "outputs": [
    {
     "name": "stdout",
     "output_type": "stream",
     "text": [
      "0.001738177179027493\n",
      "0.0008216365361915277\n"
     ]
    },
    {
     "data": {
      "image/png": "[encoded data removed]",
      "text/plain": [
       "<Figure size 432x288 with 1 Axes>"
      ]
     },
     "metadata": {
      "needs_background": "light"
     },
     "output_type": "display_data"
    }
   ],
   "source": [
    "asd=softmax(image)\n",
    "plt.imshow(asd)\n",
    "\n",
    "print(np.max(asd))\n",
    "print(np.min(asd))"
   ]
  },
  {
   "cell_type": "code",
   "execution_count": 36,
   "metadata": {},
   "outputs": [
    {
     "name": "stdout",
     "output_type": "stream",
     "text": [
      "[[0 0 0 ... 0 0 0]\n",
      " [0 0 0 ... 0 0 0]\n",
      " [0 0 0 ... 0 0 0]\n",
      " ...\n",
      " [0 0 0 ... 0 0 0]\n",
      " [0 0 0 ... 0 0 0]\n",
      " [0 0 0 ... 0 0 0]]\n"
     ]
    },
    {
     "data": {
      "text/plain": [
       "<matplotlib.image.AxesImage at 0x12f9a09d0>"
      ]
     },
     "execution_count": 36,
     "metadata": {},
     "output_type": "execute_result"
    },
    {
     "data": {
      "image/png": "[encoded data removed]",
      "text/plain": [
       "<Figure size 432x288 with 1 Axes>"
      ]
     },
     "metadata": {
      "needs_background": "light"
     },
     "output_type": "display_data"
    }
   ],
   "source": [
    "import cv2\n",
    "from matplotlib import pyplot as plt\n",
    "\n",
    "    \n",
    "img_bgr = cv2.imread(path)\n",
    "img_bitwise_not_bgr = cv2.bitwise_not(img_bgr)\n",
    "img_bitwise_not_bgr2gray = cv2.cvtColor(img_bitwise_not_bgr, cv2.COLOR_BGR2GRAY)\n",
    "ret, img_binary = cv2.threshold(img_bitwise_not_bgr2gray, 150,255,cv2.THRESH_BINARY)\n",
    "img_binary=255-img_binary\n",
    "print(img_binary)\n",
    "plt.imshow(img_binary)\n"
   ]
  },
  {
   "cell_type": "code",
   "execution_count": 37,
   "metadata": {},
   "outputs": [
    {
     "name": "stdout",
     "output_type": "stream",
     "text": [
      "<class 'numpy.ndarray'>\n"
     ]
    }
   ],
   "source": [
    "print(type(img_binary))\n"
   ]
  },
  {
   "cell_type": "code",
   "execution_count": null,
   "metadata": {},
   "outputs": [],
   "source": []
  }
 ],
 "metadata": {
  "interpreter": {
   "hash": "c744d740ca776f7babdffa687e04124c86aad33f67e851da7faee1e8b27aca0f"
  },
  "kernelspec": {
   "display_name": "Python 3.9.9 64-bit ('asd': conda)",
   "language": "python",
   "name": "python3"
  },
  "language_info": {
   "codemirror_mode": {
    "name": "ipython",
    "version": 3
   },
   "file_extension": ".py",
   "mimetype": "text/x-python",
   "name": "python",
   "nbconvert_exporter": "python",
   "pygments_lexer": "ipython3",
   "version": "3.9.9"
  },
  "orig_nbformat": 4
 },
 "nbformat": 4,
 "nbformat_minor": 2
}
