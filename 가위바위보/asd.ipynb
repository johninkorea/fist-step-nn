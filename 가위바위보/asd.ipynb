{
 "cells": [
  {
   "cell_type": "code",
   "execution_count": 1,
   "metadata": {},
   "outputs": [],
   "source": [
    "import numpy as np\n",
    "from PIL import Image\n",
    "import matplotlib.pyplot as plt\n",
    "\n",
    "import os \n",
    "from scipy.special import expit"
   ]
  },
  {
   "cell_type": "code",
   "execution_count": 2,
   "metadata": {},
   "outputs": [
    {
     "name": "stdout",
     "output_type": "stream",
     "text": [
      "4\n"
     ]
    },
    {
     "data": {
      "image/png": "[encoded data removed]",
      "text/plain": [
       "<Figure size 432x288 with 1 Axes>"
      ]
     },
     "metadata": {
      "needs_background": "light"
     },
     "output_type": "display_data"
    }
   ],
   "source": [
    "add=\"test\"\n",
    "\n",
    "list=os.listdir(add)\n",
    "test_label=list[:]\n",
    "test_data=[]\n",
    "\n",
    "z=0\n",
    "while z<len(test_label):\n",
    "    test_label[z]=test_label[z][-6]\n",
    "\n",
    "    add1 =add+\"/\"+list[z]\n",
    "\n",
    "    image_pil = Image.open(add1)\n",
    "    image = np.array(image_pil)\n",
    "\n",
    "    a=np.arange(0,128,2)\n",
    "    image = np.delete(image,(a), axis = 0)\n",
    "    image = np.delete(image,(a), axis = 1)\n",
    "    a=np.arange(0,64,2)\n",
    "    image = np.delete(image,(a), axis = 0)\n",
    "    image = np.delete(image,(a), axis = 1)\n",
    "\n",
    "    image = (image / 255.0 * 0.99) + 0.01\n",
    "    image=image.reshape(1,-1)\n",
    "    test_data.append(image)\n",
    "    \n",
    "    z+=1\n",
    "\n",
    "##############################################################################\n",
    "\n",
    "add=\"train\"\n",
    "\n",
    "list=os.listdir(add)\n",
    "train_label=list[:]\n",
    "train_data=[]\n",
    "\n",
    "z=0\n",
    "while z<len(train_label):\n",
    "    train_label[z]=train_label[z][-6]\n",
    "\n",
    "    add1 =add+\"/\"+list[z]\n",
    "\n",
    "    image_pil = Image.open(add1)\n",
    "    image = np.array(image_pil)\n",
    "\n",
    "    a=np.arange(0,128,2)\n",
    "    image = np.delete(image,(a), axis = 0)\n",
    "    image = np.delete(image,(a), axis = 1)\n",
    "    a=np.arange(0,64,2)\n",
    "    image = np.delete(image,(a), axis = 0)\n",
    "    image = np.delete(image,(a), axis = 1)\n",
    "\n",
    "    image=image.reshape(1,-1)\n",
    "    image = (image / 255.0 * 0.99) + 0.01\n",
    "    train_data.append(image)\n",
    "    \n",
    "    z+=1\n",
    "##############################################################################\n",
    "\n",
    "targets=[]\n",
    "z=0\n",
    "while z<len(train_label):\n",
    "    target=np.zeros(6)+.01\n",
    "    target[int(train_label[z])]=.99\n",
    "    targets.append(target)\n",
    "    z+=1\n",
    "\n",
    "\n",
    "a=int(np.random.choice(len(list),1))\n",
    "# plt.imshow(train_data[a])\n",
    "plt.imshow(train_data[a].reshape(32,32))\n",
    "# print(np.shape(train_data[a]))\n",
    "print(train_label[a])"
   ]
  },
  {
   "cell_type": "code",
   "execution_count": null,
   "metadata": {},
   "outputs": [],
   "source": []
  },
  {
   "cell_type": "code",
   "execution_count": null,
   "metadata": {},
   "outputs": [],
   "source": []
  },
  {
   "cell_type": "code",
   "execution_count": 10,
   "metadata": {},
   "outputs": [],
   "source": [
    "class neural_network:\n",
    "    def __init__(self, inputnodes, hiddennodes1, hiddennodes2, outputnodes, learninggrate):\n",
    "        self.inodes=inputnodes\n",
    "        self.hnodes1=hiddennodes1\n",
    "        self.hnodes2=hiddennodes2\n",
    "        self.onodes=outputnodes\n",
    "\n",
    "        self.wih1=np.random.normal(.0, pow(self.hnodes1, -.5), (self.hnodes1, self.inodes))\n",
    "        self.wh1h2=np.random.normal(.0, pow(self.hnodes2, -.5), (self.hnodes2, self.hnodes1))\n",
    "        self.wh2o=np.random.normal(.0, pow(self.onodes, -.5), (self.onodes, self.hnodes2))\n",
    "\n",
    "        self.lr=learninggrate\n",
    "\n",
    "        self.activation_fun=lambda x : expit(x)\n",
    "\n",
    "        pass\n",
    "\n",
    "    def query(self, input_list): #질의\n",
    "        inputs=np.array(input_list, ndmin=2).T\n",
    "\n",
    "        hidden1_inputs=np.dot(self.wih1, inputs)\n",
    "        hidden1_outputs=self.activation_fun(hidden1_inputs)\n",
    "        \n",
    "        hidden2_inputs=np.dot(self.wh1h2, hidden1_outputs)\n",
    "        hidden2_outputs=self.activation_fun(hidden2_inputs)\n",
    "\n",
    "        final_input=np.dot(self.wh2o ,hidden2_outputs)\n",
    "        final_outputs=self.activation_fun(final_input)\n",
    "\n",
    "        return final_outputs\n",
    "\n",
    "\n",
    "    def train(self, input_list, target): # 학습\n",
    "        inputs=np.array(input_list, ndmin=2).T\n",
    "        target=np.array(target, ndmin=2).T\n",
    "\n",
    "        hidden1_inputs=np.dot(self.wih1, inputs)\n",
    "        hidden1_outputs=self.activation_fun(hidden1_inputs)\n",
    "        \n",
    "        hidden2_inputs=np.dot(self.wh1h2, hidden1_outputs)\n",
    "        hidden2_outputs=self.activation_fun(hidden2_inputs)\n",
    "\n",
    "        final_input=np.dot(self.wh2o ,hidden2_outputs)\n",
    "        final_outputs=self.activation_fun(final_input)\n",
    "\n",
    "        # 오차 정의\n",
    "        output_err=target-final_outputs\n",
    "        hidden2_err=np.dot(self.wh2o.T, output_err)\n",
    "        hidden1_err=np.dot(self.wh1h2.T, hidden2_err)\n",
    "\n",
    "        # oh2 역전파\n",
    "        delta_w1=self.lr*np.dot(output_err*final_outputs*(1-final_outputs), hidden2_outputs.T)\n",
    "        self.wh2o=self.wh2o+delta_w1\n",
    "        \n",
    "        # h2h1 역전파\n",
    "        delta_w1=self.lr*np.dot(hidden2_err*hidden2_outputs*(1-hidden2_outputs), hidden1_outputs.T)\n",
    "        self.wh1h2=self.wh1h2+delta_w1\n",
    "\n",
    "        # h1i역전파\n",
    "        delta_w2=self.lr*np.dot(hidden1_err*hidden1_outputs*(1-hidden1_outputs), inputs.T)\n",
    "        self.wih1=self.wih1+delta_w2\n",
    "        pass\n"
   ]
  },
  {
   "cell_type": "code",
   "execution_count": 17,
   "metadata": {},
   "outputs": [
    {
     "name": "stdout",
     "output_type": "stream",
     "text": [
      "3000\n",
      "정확도: 0.16666666666666663\n"
     ]
    }
   ],
   "source": [
    "input_nodes=1024\n",
    "hiddennodes1=1500\n",
    "hiddennodes2=1500\n",
    "outputnodes=6\n",
    "\n",
    "learning_rate=0.01\n",
    "\n",
    "n=neural_network(input_nodes, hiddennodes1, hiddennodes2, outputnodes, learning_rate)\n",
    "##############################################################################\n",
    "\n",
    "z=0\n",
    "while z<10:#len(train_data):\n",
    "    # print(z)\n",
    "    n.train(train_data[z], targets[z])\n",
    "    # print(n.wh2o)\n",
    "    z+=1\n",
    "np.save(\"W/wih1\", n.wih1)\n",
    "np.save(\"W/wh1h2\", n.wh1h2)\n",
    "np.save(\"W/wh2o\", n.wh2o)\n",
    "##############################################################################\n",
    "\n",
    "z=0\n",
    "h=0\n",
    "while z<len(test_data):\n",
    "    # a=int(np.random.choice(len(test_data),1))\n",
    "    a=z\n",
    "    b=n.query(test_data[int(a)])\n",
    "    # print(b)\n",
    "    # print(np.shape(test_data[a]))\n",
    "    if int(test_label[a]) == np.argmax(b):pass\n",
    "    else:\n",
    "        # print(np.argmax(b))\n",
    "        # print(test_label[a])\n",
    "        # plt.imshow(test_data[a].reshape(32,32))\n",
    "        # print(z)\n",
    "        h+=1\n",
    "    z+=1\n",
    "print(h)\n",
    "print(\"정확도:\", 1-h/len(test_label))"
   ]
  },
  {
   "cell_type": "code",
   "execution_count": 18,
   "metadata": {},
   "outputs": [
    {
     "data": {
      "text/plain": [
       "0"
      ]
     },
     "execution_count": 18,
     "metadata": {},
     "output_type": "execute_result"
    }
   ],
   "source": [
    "os.system(\"say done\")"
   ]
  },
  {
   "cell_type": "code",
   "execution_count": 23,
   "metadata": {},
   "outputs": [
    {
     "name": "stdout",
     "output_type": "stream",
     "text": [
      "(1500, 1024)\n",
      "(1500, 1500)\n",
      "(6, 1500)\n"
     ]
    }
   ],
   "source": [
    "\n",
    "print(np.shape(n.wih1))\n",
    "print(np.shape(n.wh1h2))\n",
    "print(np.shape(n.wh2o))"
   ]
  },
  {
   "cell_type": "code",
   "execution_count": 52,
   "metadata": {},
   "outputs": [
    {
     "name": "stdout",
     "output_type": "stream",
     "text": [
      "(32, 32, 3)\n",
      "(1, 3072)\n"
     ]
    },
    {
     "ename": "ValueError",
     "evalue": "shapes (1500,1024) and (3072,1) not aligned: 1024 (dim 1) != 3072 (dim 0)",
     "output_type": "error",
     "traceback": [
      "\u001b[0;31m---------------------------------------------------------------------------\u001b[0m",
      "\u001b[0;31mValueError\u001b[0m                                Traceback (most recent call last)",
      "\u001b[0;32m/var/folders/l0/skk3w2dd45dc5w2n97cg04n40000gn/T/ipykernel_3474/3829485922.py\u001b[0m in \u001b[0;36m<module>\u001b[0;34m\u001b[0m\n\u001b[1;32m    119\u001b[0m \u001b[0mprint\u001b[0m\u001b[0;34m(\u001b[0m\u001b[0mnp\u001b[0m\u001b[0;34m.\u001b[0m\u001b[0mshape\u001b[0m\u001b[0;34m(\u001b[0m\u001b[0mimage\u001b[0m\u001b[0;34m)\u001b[0m\u001b[0;34m)\u001b[0m\u001b[0;34m\u001b[0m\u001b[0;34m\u001b[0m\u001b[0m\n\u001b[1;32m    120\u001b[0m \u001b[0;34m\u001b[0m\u001b[0m\n\u001b[0;32m--> 121\u001b[0;31m \u001b[0masd\u001b[0m\u001b[0;34m=\u001b[0m\u001b[0mn\u001b[0m\u001b[0;34m.\u001b[0m\u001b[0mquery\u001b[0m\u001b[0;34m(\u001b[0m\u001b[0mimage\u001b[0m\u001b[0;34m)\u001b[0m\u001b[0;34m\u001b[0m\u001b[0;34m\u001b[0m\u001b[0m\n\u001b[0m\u001b[1;32m    122\u001b[0m \u001b[0mre\u001b[0m\u001b[0;34m=\u001b[0m\u001b[0mnp\u001b[0m\u001b[0;34m.\u001b[0m\u001b[0margmax\u001b[0m\u001b[0;34m(\u001b[0m\u001b[0masd\u001b[0m\u001b[0;34m)\u001b[0m\u001b[0;34m\u001b[0m\u001b[0;34m\u001b[0m\u001b[0m\n\u001b[1;32m    123\u001b[0m \u001b[0mprint\u001b[0m\u001b[0;34m(\u001b[0m\u001b[0;36m10\u001b[0m\u001b[0;34m*\u001b[0m\u001b[0masd\u001b[0m\u001b[0;34m)\u001b[0m\u001b[0;34m\u001b[0m\u001b[0;34m\u001b[0m\u001b[0m\n",
      "\u001b[0;32m/var/folders/l0/skk3w2dd45dc5w2n97cg04n40000gn/T/ipykernel_3474/2026740081.py\u001b[0m in \u001b[0;36mquery\u001b[0;34m(self, input_list)\u001b[0m\n\u001b[1;32m     19\u001b[0m         \u001b[0minputs\u001b[0m\u001b[0;34m=\u001b[0m\u001b[0mnp\u001b[0m\u001b[0;34m.\u001b[0m\u001b[0marray\u001b[0m\u001b[0;34m(\u001b[0m\u001b[0minput_list\u001b[0m\u001b[0;34m,\u001b[0m \u001b[0mndmin\u001b[0m\u001b[0;34m=\u001b[0m\u001b[0;36m2\u001b[0m\u001b[0;34m)\u001b[0m\u001b[0;34m.\u001b[0m\u001b[0mT\u001b[0m\u001b[0;34m\u001b[0m\u001b[0;34m\u001b[0m\u001b[0m\n\u001b[1;32m     20\u001b[0m \u001b[0;34m\u001b[0m\u001b[0m\n\u001b[0;32m---> 21\u001b[0;31m         \u001b[0mhidden1_inputs\u001b[0m\u001b[0;34m=\u001b[0m\u001b[0mnp\u001b[0m\u001b[0;34m.\u001b[0m\u001b[0mdot\u001b[0m\u001b[0;34m(\u001b[0m\u001b[0mself\u001b[0m\u001b[0;34m.\u001b[0m\u001b[0mwih1\u001b[0m\u001b[0;34m,\u001b[0m \u001b[0minputs\u001b[0m\u001b[0;34m)\u001b[0m\u001b[0;34m\u001b[0m\u001b[0;34m\u001b[0m\u001b[0m\n\u001b[0m\u001b[1;32m     22\u001b[0m         \u001b[0mhidden1_outputs\u001b[0m\u001b[0;34m=\u001b[0m\u001b[0mself\u001b[0m\u001b[0;34m.\u001b[0m\u001b[0mactivation_fun\u001b[0m\u001b[0;34m(\u001b[0m\u001b[0mhidden1_inputs\u001b[0m\u001b[0;34m)\u001b[0m\u001b[0;34m\u001b[0m\u001b[0;34m\u001b[0m\u001b[0m\n\u001b[1;32m     23\u001b[0m \u001b[0;34m\u001b[0m\u001b[0m\n",
      "\u001b[0;32m<__array_function__ internals>\u001b[0m in \u001b[0;36mdot\u001b[0;34m(*args, **kwargs)\u001b[0m\n",
      "\u001b[0;31mValueError\u001b[0m: shapes (1500,1024) and (3072,1) not aligned: 1024 (dim 1) != 3072 (dim 0)"
     ]
    },
    {
     "data": {
      "image/png": "[encoded data removed]",
      "text/plain": [
       "<Figure size 432x288 with 1 Axes>"
      ]
     },
     "metadata": {
      "needs_background": "light"
     },
     "output_type": "display_data"
    }
   ],
   "source": [
    "import cv2\n",
    "import time\n",
    "import os\n",
    "from PIL import Image\n",
    "# import numpy as np\n",
    "# import matplotlib.pyplot as plt\n",
    "\n",
    "cap = cv2.VideoCapture(0)                       # 0번 카메라 연결\n",
    "\n",
    "frameWidth = 32\n",
    "frameHeight = 32\n",
    "cap = cv2.VideoCapture(0)\n",
    "cap.set(3, frameWidth)\n",
    "cap.set(4, frameHeight)\n",
    "cap.set(1,128)\n",
    "\n",
    "time.sleep(3)\n",
    "\n",
    "while True:\n",
    "\n",
    "    os.system( \"say  1\" )\n",
    "    os.system( \"say  2\" )\n",
    "    os.system( \"say  3\" )\n",
    "    os.system( \"say  가위\" )\n",
    "    time.sleep(.05)\n",
    "    os.system( \"say  바위\" )\n",
    "    time.sleep(.05)\n",
    "    os.system( \"say  보\" )\n",
    "    \n",
    "    ret, frame = cap.read()                 # 카메라 프레임 읽기\n",
    "    cv2.imshow('camera',frame)          # 프레임 화면에 표시\n",
    "    # if ret:\n",
    "    if 1:            # 아무 키나 누르면\n",
    "        # frame=cv2.cvtColor(frame, cv2.COLOR_BGR2GRAY)\n",
    "        frame=cv2.cvtColor(frame, cv2.COLOR_BGR2HSV)\n",
    "        # frame = cv2.flip(frame,0)   # 상하 반전\n",
    "        cv2.imwrite('photo.jpg', frame) # 프레임을 'photo.jpg'에 저장\n",
    "        break\n",
    "    # else:\n",
    "    #     print('no frame!')\n",
    "    #     break\n",
    "cap.release()\n",
    "cv2.destroyAllWindows()\n",
    "plt.imshow(frame)\n",
    "\n",
    "##############################################################################\n",
    "from PIL import Image\n",
    "import numpy as np\n",
    "import matplotlib.pyplot as plt\n",
    "\n",
    "image = np.array(frame)\n",
    "# 크기 조절\n",
    "image = np.delete(image,np.arange(263), axis = 0)\n",
    "image = np.delete(image,-np.arange(265), axis = 0)\n",
    "image = np.delete(image,np.arange(263), axis = 1)\n",
    "image = np.delete(image,-np.arange(265), axis = 1)\n",
    "\n",
    "b=int(np.shape(image)[0])\n",
    "a=np.arange(0,b,2)\n",
    "image = np.delete(image,(a), axis = 0)\n",
    "image = np.delete(image,(a), axis = 1)\n",
    "\n",
    "b=int(np.shape(image)[0])\n",
    "a=np.arange(0,b,2)\n",
    "image = np.delete(image,(a), axis = 0)\n",
    "image = np.delete(image,(a), axis = 1)\n",
    "\n",
    "b=int(np.shape(image)[0])\n",
    "a=np.arange(0,b,2)\n",
    "image = np.delete(image,(a), axis = 0)\n",
    "image = np.delete(image,(a), axis = 1)\n",
    "\n",
    "b=int(np.shape(image)[0])\n",
    "a=np.arange(0,b,2)\n",
    "image = np.delete(image,(a), axis = 0)\n",
    "image = np.delete(image,(a), axis = 1)\n",
    "\n",
    "b=int(np.shape(image)[0])\n",
    "a=np.arange(0,b,2)\n",
    "image = np.delete(image,(a), axis = 0)\n",
    "image = np.delete(image,(a), axis = 1)\n",
    "\n",
    "# 선명하게\n",
    "kernel = np.array([[0, -1, 0],\n",
    "                   [-1, 5,-1],\n",
    "                   [0, -1, 0]]) # 커널을 만듭니다.\n",
    "\n",
    "# 이미지를 선명하게 만듭니다.\n",
    "# image=np.reshape(image,(32,32))\n",
    "image = cv2.filter2D(image, -1, kernel)\n",
    "\n",
    "\n",
    "print(np.shape(image))\n",
    "plt.imshow(image)\n",
    "##############################################################################\n",
    "def query(input_list, wih1, wh1h2, wh2o): #질의\n",
    "        inputs=np.array(input_list, ndmin=2).T\n",
    "\n",
    "        hidden1_inputs=np.dot(wih1, inputs)\n",
    "        hidden1_outputs=n.activation_fun(hidden1_inputs)\n",
    "        \n",
    "        hidden2_inputs=np.dot(wh1h2, hidden1_outputs)\n",
    "        hidden2_outputs=n.activation_fun(hidden2_inputs)\n",
    "\n",
    "        final_input=np.dot(wh2o ,hidden2_outputs)\n",
    "        final_outputs=n.activation_fun(final_input)\n",
    "\n",
    "        return final_outputs\n",
    "wih1=np.load(\"/Users/yararal/python/신경망첫걸음/가위바위보/W/wh1h2.npy\")\n",
    "wh1h2=np.load(\"/Users/yararal/python/신경망첫걸음/가위바위보/W/wh1h2.npy\")\n",
    "wh2o=np.load(\"/Users/yararal/python/신경망첫걸음/가위바위보/W/wh2o.npy\")\n",
    "\n",
    "\n",
    "image = (image / np.max(image) * 0.99) + 0.01\n",
    "# asd=query(image,wih1, wh1h2, wh2o)\n",
    "\n",
    "\n",
    "image=image.reshape(1,-1)\n",
    "print(np.shape(image))\n",
    "\n",
    "asd=n.query(image)\n",
    "re=np.argmax(asd)\n",
    "print(10*asd)\n",
    "print(re)\n",
    "\n",
    "if re==2:\n",
    "    os.system(\"say rock\")\n",
    "    print(\"rock\")\n",
    "if re==1:\n",
    "    os.system(\"say rock\")\n",
    "    print(\"rock\")\n",
    "if re==0:\n",
    "    os.system(\"say Paper\")\n",
    "    print(\"Paper\")\n",
    "if re==4 :\n",
    "    os.system(\"say scissors\")\n",
    "    print(\"scissors\")\n",
    "if re==5 :\n",
    "    os.system(\"say scissors\")\n",
    "    print(\"scissors\")\n",
    "\n",
    "# 추가 학습 시키기\n",
    "# target=np.zeros(6)+.01\n",
    "# target[0]=.99\n",
    "# n.train(image, target)\n"
   ]
  },
  {
   "cell_type": "code",
   "execution_count": 54,
   "metadata": {},
   "outputs": [
    {
     "name": "stdout",
     "output_type": "stream",
     "text": [
      "(1500, 1024)\n",
      "(1500, 1500)\n",
      "(6, 1500)\n"
     ]
    }
   ],
   "source": [
    "print(np.shape(n.wih1))\n",
    "print(np.shape(n.wh1h2))\n",
    "print(np.shape(n.wh2o))\n",
    "\n"
   ]
  },
  {
   "cell_type": "code",
   "execution_count": null,
   "metadata": {},
   "outputs": [],
   "source": []
  }
 ],
 "metadata": {
  "interpreter": {
   "hash": "c744d740ca776f7babdffa687e04124c86aad33f67e851da7faee1e8b27aca0f"
  },
  "kernelspec": {
   "display_name": "Python 3.9.9 64-bit ('asd': conda)",
   "language": "python",
   "name": "python3"
  },
  "language_info": {
   "codemirror_mode": {
    "name": "ipython",
    "version": 3
   },
   "file_extension": ".py",
   "mimetype": "text/x-python",
   "name": "python",
   "nbconvert_exporter": "python",
   "pygments_lexer": "ipython3",
   "version": "3.9.9"
  },
  "orig_nbformat": 4
 },
 "nbformat": 4,
 "nbformat_minor": 2
}
