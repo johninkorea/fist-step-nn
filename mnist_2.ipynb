{
 "cells": [
  {
   "cell_type": "code",
   "execution_count": null,
   "metadata": {},
   "outputs": [],
   "source": [
    "# 교제 내오는 그대로\n",
    "import numpy as np\n",
    "import scipy as sci\n",
    "import matplotlib.pyplot as plt"
   ]
  },
  {
   "cell_type": "code",
   "execution_count": null,
   "metadata": {},
   "outputs": [],
   "source": [
    "# 네트워크 정의\n",
    "class neural_network:\n",
    "    def __init__(self, inputnodes, hiddennodes, outputnodes, learninggrate):\n",
    "        self.inodes=inputnodes\n",
    "        self.hnodes=hiddennodes\n",
    "        self.onodes=outputnodes\n",
    "\n",
    "        self.wih=np.random.normal(.0, pow(self.hnodes, -.5), (self.hnodes, self.inodes))\n",
    "        self.who=np.random.normal(.0, pow(self.onodes, -.5), (self.onodes, self.hnodes))\n",
    "\n",
    "        self.lr=learninggrate\n",
    "\n",
    "        self.activation_fun=lambda x : 1 / (1 + np.exp(-x))\n",
    "        pass\n",
    "\n",
    "    def query(self, input_list): #질의\n",
    "        inputs=np.array(input_list, ndmin=2).T # 이거 차원을 2로 한다는게 뭔의미야?\n",
    "\n",
    "        hidden_inputs=np.dot(self.wih, inputs)\n",
    "        hidden_outputs=self.activation_fun(hidden_inputs)\n",
    "\n",
    "        final_input=np.dot(self.who ,hidden_outputs)\n",
    "        final_outputs=self.activation_fun(final_input)\n",
    "\n",
    "        return final_outputs\n",
    "\n",
    "\n",
    "    def train(self, input_list, target_lsit): # 학습\n",
    "        inputs=np.array(input_list, ndmin=2).T\n",
    "        target=np.array(target_lsit, ndmin=2).T\n",
    "\n",
    "        hidden_input=np.dot(self.wih, inputs)\n",
    "        hidden_output=self.activation_fun(hidden_input)\n",
    "\n",
    "        final_input=np.dot(self.who, hidden_output)\n",
    "        final_output=self.activation_fun(final_input)\n",
    "\n",
    "        # 오차 정의\n",
    "        output_err=target-final_output\n",
    "        hidden_err=np.dot(self.who.T, output_err)\n",
    "\n",
    "        # ho 역전파\n",
    "        delta_w1=self.lr*np.dot(output_err*final_output*(1-final_output), hidden_output.T)\n",
    "        self.who=self.who+delta_w1\n",
    "\n",
    "        # ih역전파\n",
    "        hidden_err=np.dot(self.who.T, output_err)\n",
    "        delta_w2=self.lr*np.dot(hidden_err*hidden_output*(1-hidden_output), inputs.T)\n",
    "        self.wih=self.wih+delta_w2\n",
    "        pass\n"
   ]
  },
  {
   "cell_type": "code",
   "execution_count": null,
   "metadata": {},
   "outputs": [],
   "source": [
    "input_nodes=784\n",
    "hidden_nodes=100\n",
    "output_nodes=10\n",
    "\n",
    "learning_rate=.3\n",
    "\n",
    "n=neural_network(input_nodes, hidden_nodes, output_nodes, learning_rate)"
   ]
  },
  {
   "cell_type": "code",
   "execution_count": null,
   "metadata": {},
   "outputs": [],
   "source": [
    "train_datafile=open(\"/Users/yararal/python/1 신경망첫걸음/mnist_train_100.csv\", 'r')\n",
    "train_datalist=train_datafile.readlines()\n",
    "train_datafile.close()\n",
    "\n",
    "\n",
    "# 훈련과 데터 정리를 한번에 하는...\n",
    "for record in train_datalist:\n",
    "    all_value=record.split(',')\n",
    "\n",
    "    inputs=(np.asfarray(all_value)[1:]/225*.99)+.01\n",
    "                # 자료형을 float으로 만들어주는 \n",
    "\n",
    "    targets=np.zeros(output_nodes)+.01\n",
    "    targets[int(all_value[0])]=.99\n",
    "\n",
    "    n.train(inputs, targets)\n"
   ]
  },
  {
   "cell_type": "code",
   "execution_count": null,
   "metadata": {},
   "outputs": [],
   "source": [
    "# 테스트 데이터 처리\n",
    "test_datafile=open(\"/Users/yararal/python/1 신경망첫걸음/mnist_test_10.csv\", 'r')\n",
    "test_datalist=test_datafile.readlines()\n",
    "test_datafile.close()\n"
   ]
  },
  {
   "cell_type": "code",
   "execution_count": null,
   "metadata": {},
   "outputs": [],
   "source": [
    "scorecard=[]\n",
    "\n",
    "for record in test_datalist:\n",
    "    all_value=record.split(',')\n",
    "\n",
    "    correct_label=int(all_value[0])\n",
    "    print(\"correct:\", correct_label)\n",
    "\n",
    "    inputs=(np.asfarray(all_value)[1:]/225*.99)+.01\n",
    "\n",
    "    outputs=n.query(inputs)\n",
    "    label=np.argmax(outputs) # 대입한 배열안에서 max의 인덱스를 반환\n",
    "\n",
    "    print(\"network's answer:\", label)\n",
    "    print(\"=\"*30)\n",
    "    if label==correct_label:\n",
    "        scorecard.append(1)        \n",
    "    else:\n",
    "        scorecard.append(0)\n",
    "\n",
    "\n",
    "    \n"
   ]
  },
  {
   "cell_type": "code",
   "execution_count": null,
   "metadata": {},
   "outputs": [],
   "source": [
    "print(\"정답률:\", np.sum(scorecard)/len(scorecard))"
   ]
  },
  {
   "cell_type": "code",
   "execution_count": null,
   "metadata": {},
   "outputs": [],
   "source": []
  }
 ],
 "metadata": {
  "interpreter": {
   "hash": "c744d740ca776f7babdffa687e04124c86aad33f67e851da7faee1e8b27aca0f"
  },
  "kernelspec": {
   "display_name": "Python 3.9.9 64-bit ('asd': conda)",
   "language": "python",
   "name": "python3"
  },
  "language_info": {
   "codemirror_mode": {
    "name": "ipython",
    "version": 3
   },
   "file_extension": ".py",
   "mimetype": "text/x-python",
   "name": "python",
   "nbconvert_exporter": "python",
   "pygments_lexer": "ipython3",
   "version": "3.9.9"
  },
  "orig_nbformat": 4
 },
 "nbformat": 4,
 "nbformat_minor": 2
}
