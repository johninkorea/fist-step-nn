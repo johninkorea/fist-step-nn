{
 "cells": [
  {
   "cell_type": "code",
   "execution_count": 2,
   "metadata": {},
   "outputs": [],
   "source": [
    "import numpy as np\n",
    "import matplotlib.pyplot as plt\n",
    "import scipy as sci"
   ]
  },
  {
   "cell_type": "code",
   "execution_count": 3,
   "metadata": {},
   "outputs": [],
   "source": [
    "class neural_network:\n",
    "    # 변수 초기화및 정의\n",
    "    def __init__(self, inputnodes, hiddennodes, outputnodes, learninggrate):\n",
    "        # 각 층의 노드 개수\n",
    "        self.inodes=inputnodes\n",
    "        self.hnodes=hiddennodes\n",
    "        self.onodes=outputnodes\n",
    "\n",
    "        # 가중치 초기화\n",
    "        # 어떤 layer 사이에서 입력 받고 나갈때\n",
    "        # input output을 개수를 in_n, out_n이라고 하면\n",
    "        # (out_n X input_n) 크기의 행렬을 만들어야 한다.\n",
    "        # 아래ㅐ는 0을 제외하지는 않음.\n",
    "        self.wih=np.random.normal(.0, pow(self.hnodes, -.5), (self.hnodes, self.inodes))\n",
    "        self.who=np.random.normal(.0, pow(self.onodes, -.5), (self.onodes, self.hnodes))\n",
    "\n",
    "        # 학습률\n",
    "        self.lr=learninggrate\n",
    "\n",
    "        # 활성화 합수\n",
    "        # self.activation_fun=lambda x :sci.special.expit(x)\n",
    "        self.activation_fun=lambda x : 1 / (1 + np.exp(-x))\n",
    "        pass\n",
    "\n",
    "    def query(self, input_list): #질의\n",
    "        inputs=np.array(input_list, ndmin=2).T # 이거 차원을 2로 한다는게 뭔의미야?\n",
    "\n",
    "        hidden_inputs=np.dot(self.wih, inputs)\n",
    "        hidden_outputs=self.activation_fun(hidden_inputs)\n",
    "\n",
    "        final_input=np.dot(self.who ,hidden_outputs)\n",
    "        final_outputs=self.activation_fun(final_input)\n",
    "\n",
    "        return final_outputs\n",
    "\n",
    "\n",
    "    def train(self, input_list, target_lsit): # 학습\n",
    "        inputs=np.array(input_list, ndmin=2).T\n",
    "        target=np.array(target_lsit, ndmin=2).T\n",
    "\n",
    "        hidden_input=np.dot(self.wih, inputs)\n",
    "        hidden_output=self.activation_fun(hidden_input)\n",
    "\n",
    "        final_input=np.dot(self.who, hidden_output)\n",
    "        final_output=self.activation_fun(final_input)\n",
    "\n",
    "        # 여기까지는 위의 query랑 같음. 이제부커 가중치업데이트를 해야함.\n",
    "        # 오차 정의\n",
    "        output_err=target-final_output\n",
    "        hidden_err=np.dot(self.who.T, output_err)\n",
    "\n",
    "        # ho 역전파\n",
    "        delta_w1=self.lr*np.dot(output_err*final_output*(1-final_output), hidden_output.T)\n",
    "        self.who=self.who+delta_w1\n",
    "\n",
    "        # ih역전파\n",
    "        hidden_err=np.dot(self.who.T, output_err)\n",
    "        delta_w2=self.lr*np.dot(hidden_err*hidden_output*(1-hidden_output), inputs.T)\n",
    "        self.wih=self.wih+delta_w2\n",
    "\n",
    "\n",
    "\n",
    "\n",
    "\n",
    "\n",
    "\n",
    "\n",
    "        \n",
    "        pass\n",
    "\n",
    "\n",
    "        \n",
    "\n",
    "\n",
    "    "
   ]
  },
  {
   "cell_type": "code",
   "execution_count": 5,
   "metadata": {},
   "outputs": [
    {
     "data": {
      "text/plain": [
       "array([[0.09714246],\n",
       "       [0.21956033],\n",
       "       [0.28926492]])"
      ]
     },
     "execution_count": 5,
     "metadata": {},
     "output_type": "execute_result"
    }
   ],
   "source": [
    "inp=3\n",
    "hi=3\n",
    "ou=3\n",
    "\n",
    "learn=.3\n",
    "\n",
    "np.random.seed(1)\n",
    "\n",
    "n=neural_network(inp, hi, ou, learn)\n",
    "\n",
    "# 이거를 얻기 위해서 훈련시켜 보기\n",
    "target=[.1,.2,.3]\n",
    "\n",
    "z=0\n",
    "while z<1000:\n",
    "    inputs=2*np.random.random_sample(3)-1\n",
    "    n.train(inputs, target)\n",
    "    z+=1\n",
    "\n",
    "\n",
    "\n",
    "\n",
    "n.query([1.5, 2.4, 2.3])"
   ]
  },
  {
   "cell_type": "code",
   "execution_count": null,
   "metadata": {},
   "outputs": [],
   "source": []
  },
  {
   "cell_type": "code",
   "execution_count": null,
   "metadata": {},
   "outputs": [],
   "source": []
  },
  {
   "cell_type": "code",
   "execution_count": null,
   "metadata": {},
   "outputs": [],
   "source": []
  },
  {
   "cell_type": "code",
   "execution_count": null,
   "metadata": {},
   "outputs": [],
   "source": []
  }
 ],
 "metadata": {
  "interpreter": {
   "hash": "c744d740ca776f7babdffa687e04124c86aad33f67e851da7faee1e8b27aca0f"
  },
  "kernelspec": {
   "display_name": "Python 3.9.9 64-bit ('asd': conda)",
   "language": "python",
   "name": "python3"
  },
  "language_info": {
   "codemirror_mode": {
    "name": "ipython",
    "version": 3
   },
   "file_extension": ".py",
   "mimetype": "text/x-python",
   "name": "python",
   "nbconvert_exporter": "python",
   "pygments_lexer": "ipython3",
   "version": "3.9.9"
  },
  "orig_nbformat": 4
 },
 "nbformat": 4,
 "nbformat_minor": 2
}
